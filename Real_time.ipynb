{
 "cells": [
  {
   "cell_type": "code",
   "execution_count": 1,
   "id": "ae9ceca3",
   "metadata": {},
   "outputs": [
    {
     "name": "stdout",
     "output_type": "stream",
     "text": [
      "WARNING:tensorflow:From C:\\ProgramData\\anaconda3\\Lib\\site-packages\\keras\\src\\losses.py:2976: The name tf.losses.sparse_softmax_cross_entropy is deprecated. Please use tf.compat.v1.losses.sparse_softmax_cross_entropy instead.\n",
      "\n"
     ]
    },
    {
     "name": "stderr",
     "output_type": "stream",
     "text": [
      "Action: emotion: 100%|██████████| 1/1 [00:00<00:00,  3.34it/s]\n",
      "Action: emotion: 100%|██████████| 1/1 [00:00<00:00,  8.06it/s]\n",
      "Action: emotion: 100%|██████████| 1/1 [00:00<00:00,  8.12it/s]\n",
      "Action: emotion: 100%|██████████| 1/1 [00:00<00:00, 10.20it/s]\n",
      "Action: emotion: 100%|██████████| 1/1 [00:00<00:00,  8.55it/s]\n",
      "Action: emotion: 100%|██████████| 1/1 [00:00<00:00,  7.78it/s]\n",
      "Action: emotion: 100%|██████████| 1/1 [00:00<00:00,  9.42it/s]\n",
      "Action: emotion: 100%|██████████| 1/1 [00:00<00:00,  9.10it/s]\n",
      "Action: emotion: 100%|██████████| 1/1 [00:00<00:00, 11.13it/s]\n",
      "Action: emotion: 100%|██████████| 1/1 [00:00<00:00,  9.36it/s]\n",
      "Action: emotion: 100%|██████████| 1/1 [00:00<00:00,  9.52it/s]\n",
      "Action: emotion: 100%|██████████| 1/1 [00:00<00:00,  8.55it/s]\n",
      "Action: emotion: 100%|██████████| 1/1 [00:00<00:00, 10.32it/s]\n",
      "Action: emotion: 100%|██████████| 1/1 [00:00<00:00,  8.73it/s]\n",
      "Action: emotion: 100%|██████████| 1/1 [00:00<00:00,  8.69it/s]\n",
      "Action: emotion: 100%|██████████| 1/1 [00:00<00:00,  9.26it/s]\n",
      "Action: emotion: 100%|██████████| 1/1 [00:00<00:00, 11.29it/s]\n",
      "Action: emotion: 100%|██████████| 1/1 [00:00<00:00, 10.68it/s]\n",
      "Action: emotion: 100%|██████████| 1/1 [00:00<00:00, 11.03it/s]\n",
      "Action: emotion: 100%|██████████| 1/1 [00:00<00:00, 12.46it/s]\n",
      "Action: emotion: 100%|██████████| 1/1 [00:00<00:00, 10.23it/s]\n",
      "Action: emotion: 100%|██████████| 1/1 [00:00<00:00, 10.07it/s]\n",
      "Action: emotion: 100%|██████████| 1/1 [00:00<00:00, 11.01it/s]\n",
      "Action: emotion: 100%|██████████| 1/1 [00:00<00:00,  7.35it/s]\n",
      "Action: emotion: 100%|██████████| 1/1 [00:00<00:00,  9.37it/s]\n",
      "Action: emotion: 100%|██████████| 1/1 [00:00<00:00,  6.84it/s]\n",
      "Action: emotion: 100%|██████████| 1/1 [00:00<00:00,  9.06it/s]\n",
      "Action: emotion: 100%|██████████| 1/1 [00:00<00:00,  9.79it/s]\n",
      "Action: emotion: 100%|██████████| 1/1 [00:00<00:00,  9.71it/s]\n",
      "Action: emotion: 100%|██████████| 1/1 [00:00<00:00,  9.26it/s]\n",
      "Action: emotion: 100%|██████████| 1/1 [00:00<00:00,  9.27it/s]\n",
      "Action: emotion: 100%|██████████| 1/1 [00:00<00:00,  8.85it/s]\n",
      "Action: emotion: 100%|██████████| 1/1 [00:00<00:00, 10.32it/s]\n",
      "Action: emotion: 100%|██████████| 1/1 [00:00<00:00,  8.48it/s]\n",
      "Action: emotion: 100%|██████████| 1/1 [00:00<00:00,  8.26it/s]\n",
      "Action: emotion: 100%|██████████| 1/1 [00:00<00:00,  9.53it/s]\n",
      "Action: emotion: 100%|██████████| 1/1 [00:00<00:00,  9.44it/s]\n",
      "Action: emotion: 100%|██████████| 1/1 [00:00<00:00,  9.02it/s]\n",
      "Action: emotion: 100%|██████████| 1/1 [00:00<00:00, 10.41it/s]\n"
     ]
    }
   ],
   "source": [
    "import cv2 ## importing opencv\n",
    "from deepface import DeepFace  ## importing model for analyzing facial expression\n",
    "\n",
    "faceCascade = cv2.CascadeClassifier(cv2.data.haarcascades + 'haarcascade_frontalface_default.xml') ## for face detection\n",
    "\n",
    "cap = cv2.VideoCapture(1)  ## capturing video from webcam\n",
    "if not cap.isOpened():\n",
    "    cap = cv2.VideoCapture(0)\n",
    "if not cap.isOpened():\n",
    "    raise IOError(\"Cannot open webcam\")\n",
    "    \n",
    "while True:\n",
    "    ret,frame = cap.read()        ## captured frames are analyzed\n",
    "    enforce_detection = False\n",
    "    result = DeepFace.analyze(frame,  actions=['emotion'], enforce_detection=False)   ## predicts the emotion in real time\n",
    "    \n",
    "    gray = cv2.cvtColor(frame, cv2.COLOR_BGR2GRAY)  ## cnv img to gray\n",
    "    faces = faceCascade.detectMultiScale(gray,1.1,4)\n",
    "    \n",
    "    for(x, y, w, h) in faces:     ## drawing rectangle around the detected faces\n",
    "        cv2.rectangle(frame, (x, y), (x+w, y+h), (255,0,0), 2)\n",
    "        \n",
    "    font = cv2.FONT_HERSHEY_SIMPLEX   ## adding font\n",
    "    \n",
    "    cv2.putText(frame,\n",
    "               result[0]['dominant_emotion'],   ## display things in video\n",
    "               (50, 50),   ## pixel size\n",
    "               font, 3,\n",
    "               (255, 0, 0),\n",
    "               2,\n",
    "               cv2.LINE_4)\n",
    "    cv2.imshow('Demo video',frame) ## display video\n",
    "    \n",
    "    if cv2.waitKey(4) & 0xFF == ord('q'): ## press q to exit\n",
    "        break\n",
    "\n",
    "cap.release()\n",
    "cv2.destroyAllWindows()"
   ]
  },
  {
   "cell_type": "code",
   "execution_count": null,
   "id": "1fa7beac",
   "metadata": {},
   "outputs": [],
   "source": []
  },
  {
   "cell_type": "code",
   "execution_count": null,
   "id": "58c63fe9",
   "metadata": {},
   "outputs": [],
   "source": []
  }
 ],
 "metadata": {
  "kernelspec": {
   "display_name": "Python 3 (ipykernel)",
   "language": "python",
   "name": "python3"
  },
  "language_info": {
   "codemirror_mode": {
    "name": "ipython",
    "version": 3
   },
   "file_extension": ".py",
   "mimetype": "text/x-python",
   "name": "python",
   "nbconvert_exporter": "python",
   "pygments_lexer": "ipython3",
   "version": "3.11.4"
  }
 },
 "nbformat": 4,
 "nbformat_minor": 5
}
